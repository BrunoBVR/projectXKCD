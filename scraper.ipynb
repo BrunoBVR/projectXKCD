{
 "cells": [
  {
   "cell_type": "markdown",
   "metadata": {},
   "source": [
    "# Testing\n",
    "\n",
    "This is a test notebook to try different parts of the scraper."
   ]
  },
  {
   "cell_type": "code",
   "execution_count": 3,
   "metadata": {},
   "outputs": [],
   "source": [
    "import pandas as pd\n",
    "from requests_html import HTMLSession"
   ]
  },
  {
   "cell_type": "code",
   "execution_count": 108,
   "metadata": {},
   "outputs": [],
   "source": [
    "# Getting tanscript from strip 1\n",
    "\n",
    "s = HTMLSession()\n",
    "\n",
    "base_url = 'https://www.explainxkcd.com/wiki/index.php'\n",
    "\n",
    "page = 145\n",
    "url = base_url+str(page)\n",
    "\n",
    "r = s.get(url)\n",
    "\n",
    "transcript = r.html.find('dl')\n"
   ]
  },
  {
   "cell_type": "code",
   "execution_count": 37,
   "metadata": {},
   "outputs": [],
   "source": [
    "# r.html.xpath('//*[@id=\"Transcript\"]/descendant::text()')\n",
    "\n",
    "transcript_lines = r.html.xpath(\"//h2[contains(.,'Transcript')]//following-sibling::dl\")"
   ]
  },
  {
   "cell_type": "code",
   "execution_count": 43,
   "metadata": {},
   "outputs": [
    {
     "name": "stdout",
     "output_type": "stream",
     "text": [
      "[T-Rex, a large green Tyrannosaurus, holds out his small arms to each side and the tail pointing up while speaking with a wide open pink mouth showing all his teeth. All the text is written like on a typewriter with both caps and lowercase letters, which is not normal in xkcd.]\n",
      "T-Rex: THINGS I AM UPPITY ABOUT: \"They\" as a third-person singular gender-free pronoun.\n",
      "[Zoom in on T-Rex head holding his hands up under his mouth, and mouth even wider open so also the red tongue can be seen.]\n",
      "T-Rex: I'm all for it!\n",
      "[Zoom out to show T-Rex to the left, mouth almost closed, arms in normal position, the tail pointing up, and lifting his left leg ready to smash his foot down through the roof of a brown log cabin with chimney and porch with a blue car holding in front of the house to the right. Further right is a smaller white/yellow dinosaur, Dromiceiomimus, standing away from T-Rex, but turning its long neck toward him.]\n",
      "Dromiceiomimus: But isn't that terrible grammar?\n",
      "T-Rex: Only by recent convention! It's been in use that way for centuries, and its use is widely accepted! ALSO: This lets us avoid ridiculous constructs like \"he/she\", \"s/he\", \"xe\" or \"hirs\"!\n",
      "[T-Rex is moving left, so part of his head and his lifted right foot are outside the panels frame, pink mouth again partly open so tongue can be seen, but no teeth are drawn. Arms are still in normal position and the tail is pointing up. Beneath the part of his right foot visible, there is Cueball about to be squashed. Behind him an orange dinosaur, Utahraptor, has appeared. It looks like a smaller version of T-Rex, but with longer arms and very large claws on its rear legs. It has its pink mouth wide open to show its red tongue and teeth, also holding arm in front of it and the tail pointing up. It is moving forward standing only on one leg, the other lifted high up.]\n",
      "Utahraptor: T-Rex, I . . . agree.\n",
      "T-Rex: What?\n",
      "Utahraptor: That sounds good to me!\n",
      "[T-Rex stand with both legs down, but wide spread out. The tails is almost down to the ground, only the tip pointing up. The arms are still in front of it towards the left, but it has turned its head, mouth almost closed, toward right looking at Utahraptor, which now stands on both legs, but like it is leaning forward on its toes, stretching up with arms held high, mouth less open, but tongue and teeth visible.]\n",
      "Utahraptor: Normally I'd jump in with an objection, but I think your point makes sense.\n",
      "T-Rex: Could it be that the rift in our author's mind has finally healed? Is he no longer locked in perpetual war with the self-doubt that lurks in his subc-\n",
      "[The final part of the final words from T-Rex is interrupted in the previous panel and first finishes here after a narrator \"speaks\" before T-Rex with bold capital letters to the top right, and after to the bottom left. T-Rex is seen in full figure standing with wide open mouth, teeth and tongue visible, arms and tail up.]\n",
      "Narrator: IN A WORLD WHERE THERE IS STILL A LAND BRIDGE BETWEEN ASIA AND NORTH AMERICA FOR SOME REASON:\n",
      "T-Rex: -onscious?\n",
      "Narrator: ALSO HOW ABOUT IN THIS WORLD EVERYONE IS BICURIOUS\n"
     ]
    }
   ],
   "source": [
    "full_transcript = ''\n",
    "for line in transcript_lines:\n",
    "    print(line.text)\n",
    "    full_transcript += line.text"
   ]
  },
  {
   "cell_type": "code",
   "execution_count": 44,
   "metadata": {},
   "outputs": [
    {
     "data": {
      "text/plain": [
       "'[T-Rex, a large green Tyrannosaurus, holds out his small arms to each side and the tail pointing up while speaking with a wide open pink mouth showing all his teeth. All the text is written like on a typewriter with both caps and lowercase letters, which is not normal in xkcd.]\\nT-Rex: THINGS I AM UPPITY ABOUT: \"They\" as a third-person singular gender-free pronoun.[Zoom in on T-Rex head holding his hands up under his mouth, and mouth even wider open so also the red tongue can be seen.]\\nT-Rex: I\\'m all for it![Zoom out to show T-Rex to the left, mouth almost closed, arms in normal position, the tail pointing up, and lifting his left leg ready to smash his foot down through the roof of a brown log cabin with chimney and porch with a blue car holding in front of the house to the right. Further right is a smaller white/yellow dinosaur, Dromiceiomimus, standing away from T-Rex, but turning its long neck toward him.]\\nDromiceiomimus: But isn\\'t that terrible grammar?\\nT-Rex: Only by recent convention! It\\'s been in use that way for centuries, and its use is widely accepted! ALSO: This lets us avoid ridiculous constructs like \"he/she\", \"s/he\", \"xe\" or \"hirs\"![T-Rex is moving left, so part of his head and his lifted right foot are outside the panels frame, pink mouth again partly open so tongue can be seen, but no teeth are drawn. Arms are still in normal position and the tail is pointing up. Beneath the part of his right foot visible, there is Cueball about to be squashed. Behind him an orange dinosaur, Utahraptor, has appeared. It looks like a smaller version of T-Rex, but with longer arms and very large claws on its rear legs. It has its pink mouth wide open to show its red tongue and teeth, also holding arm in front of it and the tail pointing up. It is moving forward standing only on one leg, the other lifted high up.]\\nUtahraptor: T-Rex, I . . . agree.\\nT-Rex: What?\\nUtahraptor: That sounds good to me![T-Rex stand with both legs down, but wide spread out. The tails is almost down to the ground, only the tip pointing up. The arms are still in front of it towards the left, but it has turned its head, mouth almost closed, toward right looking at Utahraptor, which now stands on both legs, but like it is leaning forward on its toes, stretching up with arms held high, mouth less open, but tongue and teeth visible.]\\nUtahraptor: Normally I\\'d jump in with an objection, but I think your point makes sense.\\nT-Rex: Could it be that the rift in our author\\'s mind has finally healed? Is he no longer locked in perpetual war with the self-doubt that lurks in his subc-[The final part of the final words from T-Rex is interrupted in the previous panel and first finishes here after a narrator \"speaks\" before T-Rex with bold capital letters to the top right, and after to the bottom left. T-Rex is seen in full figure standing with wide open mouth, teeth and tongue visible, arms and tail up.]\\nNarrator: IN A WORLD WHERE THERE IS STILL A LAND BRIDGE BETWEEN ASIA AND NORTH AMERICA FOR SOME REASON:\\nT-Rex: -onscious?\\nNarrator: ALSO HOW ABOUT IN THIS WORLD EVERYONE IS BICURIOUS'"
      ]
     },
     "execution_count": 44,
     "metadata": {},
     "output_type": "execute_result"
    }
   ],
   "source": [
    "# Getting all text in a single string\n",
    "full_transcript"
   ]
  },
  {
   "cell_type": "code",
   "execution_count": 65,
   "metadata": {},
   "outputs": [],
   "source": [
    "# Getting strip number and date\n",
    "top = r.html.find('a.external.text')[0]\n",
    "\n",
    "\n",
    "#mw-content-text > div > table > tbody > tr:nth-child(1) > td > ul > li.plainlinks > a > span"
   ]
  },
  {
   "cell_type": "code",
   "execution_count": 70,
   "metadata": {},
   "outputs": [
    {
     "data": {
      "text/plain": [
       "'Comic\\xa0#145\\xa0(August\\xa018,\\xa02006)'"
      ]
     },
     "execution_count": 70,
     "metadata": {},
     "output_type": "execute_result"
    }
   ],
   "source": [
    "top.find('span')[0].text"
   ]
  },
  {
   "cell_type": "code",
   "execution_count": 71,
   "metadata": {},
   "outputs": [
    {
     "data": {
      "text/plain": [
       "'Comic #145 (August 18, 2006)'"
      ]
     },
     "execution_count": 71,
     "metadata": {},
     "output_type": "execute_result"
    }
   ],
   "source": [
    "top.find('span')[0].text.replace(u'\\xa0', ' ')"
   ]
  },
  {
   "cell_type": "code",
   "execution_count": 72,
   "metadata": {},
   "outputs": [],
   "source": [
    "text = top.find('span')[0].text.replace(u'\\xa0', ' ')"
   ]
  },
  {
   "cell_type": "code",
   "execution_count": 75,
   "metadata": {},
   "outputs": [
    {
     "data": {
      "text/plain": [
       "'145'"
      ]
     },
     "execution_count": 75,
     "metadata": {},
     "output_type": "execute_result"
    }
   ],
   "source": [
    "# Getting comic number:\n",
    "# Everything after the # and before an epmty space\n",
    "text[text.index(\"#\") + 1 : text.index(\"(\") - 1]"
   ]
  },
  {
   "cell_type": "code",
   "execution_count": 76,
   "metadata": {},
   "outputs": [
    {
     "name": "stdout",
     "output_type": "stream",
     "text": [
      "145\n"
     ]
    }
   ],
   "source": [
    "# Getting the top text with comic number and date\n",
    "num_and_date = r.html.find('a.external.text')[0].find('span')[0].text\n",
    "\n",
    "# Clean the text\n",
    "num_and_date = num_and_date.replace(u'\\xa0', ' ')\n",
    "\n",
    "# So, the comic strip number is given by:\n",
    "strip_number = num_and_date[num_and_date.index(\"#\") + 1 : num_and_date.index(\"(\") - 1]\n",
    "print(strip_number)"
   ]
  },
  {
   "cell_type": "code",
   "execution_count": 79,
   "metadata": {},
   "outputs": [
    {
     "name": "stdout",
     "output_type": "stream",
     "text": [
      "August 18, 2006\n"
     ]
    }
   ],
   "source": [
    "# Getting the date:\n",
    "strip_date = num_and_date[num_and_date.index(\"(\") + 1 : num_and_date.index(\")\")]\n",
    "print(strip_date)"
   ]
  },
  {
   "cell_type": "code",
   "execution_count": 97,
   "metadata": {},
   "outputs": [
    {
     "data": {
      "text/plain": [
       "'Parody Week: Dinosaur Comics'"
      ]
     },
     "execution_count": 97,
     "metadata": {},
     "output_type": "execute_result"
    }
   ],
   "source": [
    "## Getting the strip title\n",
    "strip_title = r.html.xpath('//*[@id=\"mw-content-text\"]/div/table')[0].find(\"td\")[1].find('b')[0].text\n",
    "\n",
    "#mw-content-text > div > table > tbody > tr:nth-child(2) > td > b\n",
    "\n",
    "strip_title"
   ]
  },
  {
   "cell_type": "code",
   "execution_count": 130,
   "metadata": {},
   "outputs": [
    {
     "name": "stdout",
     "output_type": "stream",
     "text": [
      "2645 | July 13, 2022 | The Best Camera | [Each panel features an image of space, with text printed in white at the top of each panel. The first panel says:]\n",
      "They say the best camera is the one you have with you.[A panel showing more stars and galaxies visible.]\n",
      "It turns out[A panel showing even more stars and galaxies visible. At the center of the panel is an outline drawing in white of the James Webb Space Telescope.]\n",
      "they're wrong.\n"
     ]
    }
   ],
   "source": [
    "# Putting it all together\n",
    "s = HTMLSession()\n",
    "\n",
    "base_url = 'https://www.explainxkcd.com/wiki/index.php/'\n",
    "\n",
    "page = 2645\n",
    "url = base_url+str(page)\n",
    "\n",
    "r = s.get(url)\n",
    "\n",
    "# Getting the transcript as single string\n",
    "transcript_lines = r.html.xpath(\"//h2[contains(.,'Transcript')]//following-sibling::dl\")\n",
    "\n",
    "full_transcript = ''\n",
    "for line in transcript_lines:\n",
    "    full_transcript += line.text\n",
    "\n",
    "# Getting the top text with comic number and date\n",
    "num_and_date = r.html.find('a.external.text')[0].find('span')[0].text\n",
    "\n",
    "# Clean the text\n",
    "num_and_date = num_and_date.replace(u'\\xa0', ' ')\n",
    "\n",
    "# Comic strip number is given by:\n",
    "strip_number = num_and_date[num_and_date.index(\"#\") + 1 : num_and_date.index(\"(\") - 1]\n",
    "\n",
    "# Getting the date:\n",
    "strip_date = num_and_date[num_and_date.index(\"(\") + 1 : num_and_date.index(\")\")]\n",
    "\n",
    "## Getting the strip title\n",
    "strip_title = r.html.xpath('//*[@id=\"mw-content-text\"]/div/table')[0].find(\"td\")[1].find('b')[0].text\n",
    "\n",
    "print(strip_number, strip_date, strip_title, full_transcript, sep=\" | \")"
   ]
  },
  {
   "cell_type": "code",
   "execution_count": 132,
   "metadata": {},
   "outputs": [
    {
     "name": "stdout",
     "output_type": "stream",
     "text": [
      "Last page!\n"
     ]
    }
   ],
   "source": [
    "# Going to next page\n",
    "next_button = r.html.xpath(\"//span[contains(.,'Next')]//parent::a\")\n",
    "\n",
    "if next_button:\n",
    "    next_url = next_button[0].attrs['href']\n",
    "    print('https://www.explainxkcd.com' + next_url)\n",
    "else:\n",
    "    print('Last page!')\n",
    "\n",
    "# #mw-content-text > div > table > tbody > tr:nth-child(1) > td > ul > li:nth-child(4) > a"
   ]
  },
  {
   "cell_type": "code",
   "execution_count": 133,
   "metadata": {},
   "outputs": [],
   "source": [
    "def get_next_page(url):\n",
    "\n",
    "    r = s.get(url)\n",
    "\n",
    "    next_button = r.html.xpath(\"//span[contains(.,'Next')]//parent::a\")\n",
    "\n",
    "    if next_button:\n",
    "        next_url = next_button[0].attrs[\"href\"]\n",
    "        return \"https://www.explainxkcd.com\" + next_url"
   ]
  },
  {
   "cell_type": "code",
   "execution_count": 146,
   "metadata": {},
   "outputs": [
    {
     "data": {
      "text/plain": [
       "'https://www.explainxkcd.com/wiki/index.php/422'"
      ]
     },
     "execution_count": 146,
     "metadata": {},
     "output_type": "execute_result"
    }
   ],
   "source": [
    "page = 421\n",
    "url = base_url+str(page)\n",
    "\n",
    "get_next_page(url)"
   ]
  },
  {
   "cell_type": "code",
   "execution_count": 145,
   "metadata": {},
   "outputs": [
    {
     "name": "stdout",
     "output_type": "stream",
     "text": [
      "https://www.explainxkcd.com/wiki/index.php/2\n",
      "https://www.explainxkcd.com/wiki/index.php/3\n",
      "https://www.explainxkcd.com/wiki/index.php/4\n",
      "https://www.explainxkcd.com/wiki/index.php/5\n",
      "https://www.explainxkcd.com/wiki/index.php/6\n",
      "https://www.explainxkcd.com/wiki/index.php/7\n",
      "https://www.explainxkcd.com/wiki/index.php/8\n",
      "https://www.explainxkcd.com/wiki/index.php/9\n",
      "https://www.explainxkcd.com/wiki/index.php/10\n",
      "https://www.explainxkcd.com/wiki/index.php/11\n",
      "https://www.explainxkcd.com/wiki/index.php/12\n",
      "https://www.explainxkcd.com/wiki/index.php/13\n",
      "https://www.explainxkcd.com/wiki/index.php/14\n",
      "https://www.explainxkcd.com/wiki/index.php/15\n",
      "https://www.explainxkcd.com/wiki/index.php/16\n",
      "https://www.explainxkcd.com/wiki/index.php/17\n",
      "https://www.explainxkcd.com/wiki/index.php/18\n",
      "https://www.explainxkcd.com/wiki/index.php/19\n",
      "https://www.explainxkcd.com/wiki/index.php/20\n",
      "https://www.explainxkcd.com/wiki/index.php/21\n",
      "https://www.explainxkcd.com/wiki/index.php/22\n",
      "https://www.explainxkcd.com/wiki/index.php/23\n",
      "https://www.explainxkcd.com/wiki/index.php/24\n",
      "https://www.explainxkcd.com/wiki/index.php/25\n",
      "https://www.explainxkcd.com/wiki/index.php/26\n",
      "https://www.explainxkcd.com/wiki/index.php/27\n",
      "https://www.explainxkcd.com/wiki/index.php/28\n",
      "https://www.explainxkcd.com/wiki/index.php/29\n",
      "https://www.explainxkcd.com/wiki/index.php/30\n",
      "https://www.explainxkcd.com/wiki/index.php/31\n",
      "https://www.explainxkcd.com/wiki/index.php/32\n",
      "https://www.explainxkcd.com/wiki/index.php/33\n",
      "https://www.explainxkcd.com/wiki/index.php/34\n",
      "https://www.explainxkcd.com/wiki/index.php/35\n",
      "https://www.explainxkcd.com/wiki/index.php/36\n",
      "https://www.explainxkcd.com/wiki/index.php/37\n",
      "https://www.explainxkcd.com/wiki/index.php/38\n",
      "https://www.explainxkcd.com/wiki/index.php/39\n",
      "https://www.explainxkcd.com/wiki/index.php/40\n",
      "https://www.explainxkcd.com/wiki/index.php/41\n",
      "https://www.explainxkcd.com/wiki/index.php/42\n",
      "https://www.explainxkcd.com/wiki/index.php/43\n",
      "https://www.explainxkcd.com/wiki/index.php/44\n",
      "https://www.explainxkcd.com/wiki/index.php/45\n",
      "https://www.explainxkcd.com/wiki/index.php/46\n",
      "https://www.explainxkcd.com/wiki/index.php/47\n",
      "https://www.explainxkcd.com/wiki/index.php/48\n",
      "https://www.explainxkcd.com/wiki/index.php/49\n",
      "https://www.explainxkcd.com/wiki/index.php/50\n",
      "https://www.explainxkcd.com/wiki/index.php/51\n",
      "https://www.explainxkcd.com/wiki/index.php/52\n",
      "https://www.explainxkcd.com/wiki/index.php/53\n",
      "https://www.explainxkcd.com/wiki/index.php/54\n",
      "https://www.explainxkcd.com/wiki/index.php/55\n",
      "https://www.explainxkcd.com/wiki/index.php/56\n",
      "https://www.explainxkcd.com/wiki/index.php/57\n",
      "https://www.explainxkcd.com/wiki/index.php/58\n",
      "https://www.explainxkcd.com/wiki/index.php/59\n",
      "https://www.explainxkcd.com/wiki/index.php/60\n",
      "https://www.explainxkcd.com/wiki/index.php/61\n",
      "https://www.explainxkcd.com/wiki/index.php/62\n",
      "https://www.explainxkcd.com/wiki/index.php/63\n",
      "https://www.explainxkcd.com/wiki/index.php/64\n",
      "https://www.explainxkcd.com/wiki/index.php/65\n",
      "https://www.explainxkcd.com/wiki/index.php/66\n",
      "https://www.explainxkcd.com/wiki/index.php/67\n",
      "https://www.explainxkcd.com/wiki/index.php/68\n",
      "https://www.explainxkcd.com/wiki/index.php/69\n",
      "https://www.explainxkcd.com/wiki/index.php/70\n",
      "https://www.explainxkcd.com/wiki/index.php/71\n",
      "https://www.explainxkcd.com/wiki/index.php/72\n",
      "https://www.explainxkcd.com/wiki/index.php/73\n",
      "https://www.explainxkcd.com/wiki/index.php/74\n",
      "https://www.explainxkcd.com/wiki/index.php/75\n",
      "https://www.explainxkcd.com/wiki/index.php/76\n",
      "https://www.explainxkcd.com/wiki/index.php/77\n",
      "https://www.explainxkcd.com/wiki/index.php/78\n",
      "https://www.explainxkcd.com/wiki/index.php/79\n",
      "https://www.explainxkcd.com/wiki/index.php/80\n",
      "https://www.explainxkcd.com/wiki/index.php/81\n",
      "https://www.explainxkcd.com/wiki/index.php/82\n",
      "https://www.explainxkcd.com/wiki/index.php/83\n",
      "https://www.explainxkcd.com/wiki/index.php/84\n",
      "https://www.explainxkcd.com/wiki/index.php/85\n",
      "https://www.explainxkcd.com/wiki/index.php/86\n",
      "https://www.explainxkcd.com/wiki/index.php/87\n",
      "https://www.explainxkcd.com/wiki/index.php/88\n",
      "https://www.explainxkcd.com/wiki/index.php/89\n",
      "https://www.explainxkcd.com/wiki/index.php/90\n",
      "https://www.explainxkcd.com/wiki/index.php/91\n",
      "https://www.explainxkcd.com/wiki/index.php/92\n",
      "https://www.explainxkcd.com/wiki/index.php/93\n",
      "https://www.explainxkcd.com/wiki/index.php/94\n",
      "https://www.explainxkcd.com/wiki/index.php/95\n",
      "https://www.explainxkcd.com/wiki/index.php/96\n",
      "https://www.explainxkcd.com/wiki/index.php/97\n",
      "https://www.explainxkcd.com/wiki/index.php/98\n"
     ]
    },
    {
     "ename": "KeyboardInterrupt",
     "evalue": "",
     "output_type": "error",
     "traceback": [
      "\u001b[0;31m---------------------------------------------------------------------------\u001b[0m",
      "\u001b[0;31mKeyboardInterrupt\u001b[0m                         Traceback (most recent call last)",
      "\u001b[1;32m/home/bruno/Documents/ML/projectXKCD/scraper.ipynb Cell 18'\u001b[0m in \u001b[0;36m<cell line: 3>\u001b[0;34m()\u001b[0m\n\u001b[1;32m      <a href='vscode-notebook-cell:/home/bruno/Documents/ML/projectXKCD/scraper.ipynb#ch0000019?line=0'>1</a>\u001b[0m url \u001b[39m=\u001b[39m base_url\u001b[39m+\u001b[39m\u001b[39mstr\u001b[39m(\u001b[39m1\u001b[39m)\n\u001b[1;32m      <a href='vscode-notebook-cell:/home/bruno/Documents/ML/projectXKCD/scraper.ipynb#ch0000019?line=1'>2</a>\u001b[0m \u001b[39mwhile\u001b[39;00m \u001b[39mTrue\u001b[39;00m:\n\u001b[0;32m----> <a href='vscode-notebook-cell:/home/bruno/Documents/ML/projectXKCD/scraper.ipynb#ch0000019?line=2'>3</a>\u001b[0m     url \u001b[39m=\u001b[39m get_next_page(url)\n\u001b[1;32m      <a href='vscode-notebook-cell:/home/bruno/Documents/ML/projectXKCD/scraper.ipynb#ch0000019?line=3'>4</a>\u001b[0m     \u001b[39mprint\u001b[39m(url)\n",
      "\u001b[1;32m/home/bruno/Documents/ML/projectXKCD/scraper.ipynb Cell 16'\u001b[0m in \u001b[0;36mget_next_page\u001b[0;34m(url)\u001b[0m\n\u001b[1;32m      <a href='vscode-notebook-cell:/home/bruno/Documents/ML/projectXKCD/scraper.ipynb#ch0000017?line=0'>1</a>\u001b[0m \u001b[39mdef\u001b[39;00m \u001b[39mget_next_page\u001b[39m(url):\n\u001b[0;32m----> <a href='vscode-notebook-cell:/home/bruno/Documents/ML/projectXKCD/scraper.ipynb#ch0000017?line=2'>3</a>\u001b[0m     r \u001b[39m=\u001b[39m s\u001b[39m.\u001b[39;49mget(url)\n\u001b[1;32m      <a href='vscode-notebook-cell:/home/bruno/Documents/ML/projectXKCD/scraper.ipynb#ch0000017?line=4'>5</a>\u001b[0m     next_button \u001b[39m=\u001b[39m r\u001b[39m.\u001b[39mhtml\u001b[39m.\u001b[39mxpath(\u001b[39m\"\u001b[39m\u001b[39m//span[contains(.,\u001b[39m\u001b[39m'\u001b[39m\u001b[39mNext\u001b[39m\u001b[39m'\u001b[39m\u001b[39m)]//parent::a\u001b[39m\u001b[39m\"\u001b[39m)\n\u001b[1;32m      <a href='vscode-notebook-cell:/home/bruno/Documents/ML/projectXKCD/scraper.ipynb#ch0000017?line=6'>7</a>\u001b[0m     \u001b[39mif\u001b[39;00m next_button:\n",
      "File \u001b[0;32m~/Documents/ML/projectXKCD/xkcd-env/lib/python3.9/site-packages/requests/sessions.py:600\u001b[0m, in \u001b[0;36mSession.get\u001b[0;34m(self, url, **kwargs)\u001b[0m\n\u001b[1;32m    <a href='file:///~/Documents/ML/projectXKCD/xkcd-env/lib/python3.9/site-packages/requests/sessions.py?line=591'>592</a>\u001b[0m \u001b[39mr\u001b[39m\u001b[39m\"\"\"Sends a GET request. Returns :class:`Response` object.\u001b[39;00m\n\u001b[1;32m    <a href='file:///~/Documents/ML/projectXKCD/xkcd-env/lib/python3.9/site-packages/requests/sessions.py?line=592'>593</a>\u001b[0m \n\u001b[1;32m    <a href='file:///~/Documents/ML/projectXKCD/xkcd-env/lib/python3.9/site-packages/requests/sessions.py?line=593'>594</a>\u001b[0m \u001b[39m:param url: URL for the new :class:`Request` object.\u001b[39;00m\n\u001b[1;32m    <a href='file:///~/Documents/ML/projectXKCD/xkcd-env/lib/python3.9/site-packages/requests/sessions.py?line=594'>595</a>\u001b[0m \u001b[39m:param \\*\\*kwargs: Optional arguments that ``request`` takes.\u001b[39;00m\n\u001b[1;32m    <a href='file:///~/Documents/ML/projectXKCD/xkcd-env/lib/python3.9/site-packages/requests/sessions.py?line=595'>596</a>\u001b[0m \u001b[39m:rtype: requests.Response\u001b[39;00m\n\u001b[1;32m    <a href='file:///~/Documents/ML/projectXKCD/xkcd-env/lib/python3.9/site-packages/requests/sessions.py?line=596'>597</a>\u001b[0m \u001b[39m\"\"\"\u001b[39;00m\n\u001b[1;32m    <a href='file:///~/Documents/ML/projectXKCD/xkcd-env/lib/python3.9/site-packages/requests/sessions.py?line=598'>599</a>\u001b[0m kwargs\u001b[39m.\u001b[39msetdefault(\u001b[39m\"\u001b[39m\u001b[39mallow_redirects\u001b[39m\u001b[39m\"\u001b[39m, \u001b[39mTrue\u001b[39;00m)\n\u001b[0;32m--> <a href='file:///~/Documents/ML/projectXKCD/xkcd-env/lib/python3.9/site-packages/requests/sessions.py?line=599'>600</a>\u001b[0m \u001b[39mreturn\u001b[39;00m \u001b[39mself\u001b[39;49m\u001b[39m.\u001b[39;49mrequest(\u001b[39m\"\u001b[39;49m\u001b[39mGET\u001b[39;49m\u001b[39m\"\u001b[39;49m, url, \u001b[39m*\u001b[39;49m\u001b[39m*\u001b[39;49mkwargs)\n",
      "File \u001b[0;32m~/Documents/ML/projectXKCD/xkcd-env/lib/python3.9/site-packages/requests/sessions.py:587\u001b[0m, in \u001b[0;36mSession.request\u001b[0;34m(self, method, url, params, data, headers, cookies, files, auth, timeout, allow_redirects, proxies, hooks, stream, verify, cert, json)\u001b[0m\n\u001b[1;32m    <a href='file:///~/Documents/ML/projectXKCD/xkcd-env/lib/python3.9/site-packages/requests/sessions.py?line=581'>582</a>\u001b[0m send_kwargs \u001b[39m=\u001b[39m {\n\u001b[1;32m    <a href='file:///~/Documents/ML/projectXKCD/xkcd-env/lib/python3.9/site-packages/requests/sessions.py?line=582'>583</a>\u001b[0m     \u001b[39m\"\u001b[39m\u001b[39mtimeout\u001b[39m\u001b[39m\"\u001b[39m: timeout,\n\u001b[1;32m    <a href='file:///~/Documents/ML/projectXKCD/xkcd-env/lib/python3.9/site-packages/requests/sessions.py?line=583'>584</a>\u001b[0m     \u001b[39m\"\u001b[39m\u001b[39mallow_redirects\u001b[39m\u001b[39m\"\u001b[39m: allow_redirects,\n\u001b[1;32m    <a href='file:///~/Documents/ML/projectXKCD/xkcd-env/lib/python3.9/site-packages/requests/sessions.py?line=584'>585</a>\u001b[0m }\n\u001b[1;32m    <a href='file:///~/Documents/ML/projectXKCD/xkcd-env/lib/python3.9/site-packages/requests/sessions.py?line=585'>586</a>\u001b[0m send_kwargs\u001b[39m.\u001b[39mupdate(settings)\n\u001b[0;32m--> <a href='file:///~/Documents/ML/projectXKCD/xkcd-env/lib/python3.9/site-packages/requests/sessions.py?line=586'>587</a>\u001b[0m resp \u001b[39m=\u001b[39m \u001b[39mself\u001b[39;49m\u001b[39m.\u001b[39;49msend(prep, \u001b[39m*\u001b[39;49m\u001b[39m*\u001b[39;49msend_kwargs)\n\u001b[1;32m    <a href='file:///~/Documents/ML/projectXKCD/xkcd-env/lib/python3.9/site-packages/requests/sessions.py?line=588'>589</a>\u001b[0m \u001b[39mreturn\u001b[39;00m resp\n",
      "File \u001b[0;32m~/Documents/ML/projectXKCD/xkcd-env/lib/python3.9/site-packages/requests/sessions.py:745\u001b[0m, in \u001b[0;36mSession.send\u001b[0;34m(self, request, **kwargs)\u001b[0m\n\u001b[1;32m    <a href='file:///~/Documents/ML/projectXKCD/xkcd-env/lib/python3.9/site-packages/requests/sessions.py?line=741'>742</a>\u001b[0m         \u001b[39mpass\u001b[39;00m\n\u001b[1;32m    <a href='file:///~/Documents/ML/projectXKCD/xkcd-env/lib/python3.9/site-packages/requests/sessions.py?line=743'>744</a>\u001b[0m \u001b[39mif\u001b[39;00m \u001b[39mnot\u001b[39;00m stream:\n\u001b[0;32m--> <a href='file:///~/Documents/ML/projectXKCD/xkcd-env/lib/python3.9/site-packages/requests/sessions.py?line=744'>745</a>\u001b[0m     r\u001b[39m.\u001b[39;49mcontent\n\u001b[1;32m    <a href='file:///~/Documents/ML/projectXKCD/xkcd-env/lib/python3.9/site-packages/requests/sessions.py?line=746'>747</a>\u001b[0m \u001b[39mreturn\u001b[39;00m r\n",
      "File \u001b[0;32m~/Documents/ML/projectXKCD/xkcd-env/lib/python3.9/site-packages/requests/models.py:899\u001b[0m, in \u001b[0;36mResponse.content\u001b[0;34m(self)\u001b[0m\n\u001b[1;32m    <a href='file:///~/Documents/ML/projectXKCD/xkcd-env/lib/python3.9/site-packages/requests/models.py?line=896'>897</a>\u001b[0m         \u001b[39mself\u001b[39m\u001b[39m.\u001b[39m_content \u001b[39m=\u001b[39m \u001b[39mNone\u001b[39;00m\n\u001b[1;32m    <a href='file:///~/Documents/ML/projectXKCD/xkcd-env/lib/python3.9/site-packages/requests/models.py?line=897'>898</a>\u001b[0m     \u001b[39melse\u001b[39;00m:\n\u001b[0;32m--> <a href='file:///~/Documents/ML/projectXKCD/xkcd-env/lib/python3.9/site-packages/requests/models.py?line=898'>899</a>\u001b[0m         \u001b[39mself\u001b[39m\u001b[39m.\u001b[39m_content \u001b[39m=\u001b[39m \u001b[39mb\u001b[39;49m\u001b[39m\"\u001b[39;49m\u001b[39m\"\u001b[39;49m\u001b[39m.\u001b[39;49mjoin(\u001b[39mself\u001b[39;49m\u001b[39m.\u001b[39;49miter_content(CONTENT_CHUNK_SIZE)) \u001b[39mor\u001b[39;00m \u001b[39mb\u001b[39m\u001b[39m\"\u001b[39m\u001b[39m\"\u001b[39m\n\u001b[1;32m    <a href='file:///~/Documents/ML/projectXKCD/xkcd-env/lib/python3.9/site-packages/requests/models.py?line=900'>901</a>\u001b[0m \u001b[39mself\u001b[39m\u001b[39m.\u001b[39m_content_consumed \u001b[39m=\u001b[39m \u001b[39mTrue\u001b[39;00m\n\u001b[1;32m    <a href='file:///~/Documents/ML/projectXKCD/xkcd-env/lib/python3.9/site-packages/requests/models.py?line=901'>902</a>\u001b[0m \u001b[39m# don't need to release the connection; that's been handled by urllib3\u001b[39;00m\n\u001b[1;32m    <a href='file:///~/Documents/ML/projectXKCD/xkcd-env/lib/python3.9/site-packages/requests/models.py?line=902'>903</a>\u001b[0m \u001b[39m# since we exhausted the data.\u001b[39;00m\n",
      "File \u001b[0;32m~/Documents/ML/projectXKCD/xkcd-env/lib/python3.9/site-packages/requests/models.py:816\u001b[0m, in \u001b[0;36mResponse.iter_content.<locals>.generate\u001b[0;34m()\u001b[0m\n\u001b[1;32m    <a href='file:///~/Documents/ML/projectXKCD/xkcd-env/lib/python3.9/site-packages/requests/models.py?line=813'>814</a>\u001b[0m \u001b[39mif\u001b[39;00m \u001b[39mhasattr\u001b[39m(\u001b[39mself\u001b[39m\u001b[39m.\u001b[39mraw, \u001b[39m\"\u001b[39m\u001b[39mstream\u001b[39m\u001b[39m\"\u001b[39m):\n\u001b[1;32m    <a href='file:///~/Documents/ML/projectXKCD/xkcd-env/lib/python3.9/site-packages/requests/models.py?line=814'>815</a>\u001b[0m     \u001b[39mtry\u001b[39;00m:\n\u001b[0;32m--> <a href='file:///~/Documents/ML/projectXKCD/xkcd-env/lib/python3.9/site-packages/requests/models.py?line=815'>816</a>\u001b[0m         \u001b[39myield from\u001b[39;00m \u001b[39mself\u001b[39m\u001b[39m.\u001b[39mraw\u001b[39m.\u001b[39mstream(chunk_size, decode_content\u001b[39m=\u001b[39m\u001b[39mTrue\u001b[39;00m)\n\u001b[1;32m    <a href='file:///~/Documents/ML/projectXKCD/xkcd-env/lib/python3.9/site-packages/requests/models.py?line=816'>817</a>\u001b[0m     \u001b[39mexcept\u001b[39;00m ProtocolError \u001b[39mas\u001b[39;00m e:\n\u001b[1;32m    <a href='file:///~/Documents/ML/projectXKCD/xkcd-env/lib/python3.9/site-packages/requests/models.py?line=817'>818</a>\u001b[0m         \u001b[39mraise\u001b[39;00m ChunkedEncodingError(e)\n",
      "File \u001b[0;32m~/Documents/ML/projectXKCD/xkcd-env/lib/python3.9/site-packages/urllib3/response.py:575\u001b[0m, in \u001b[0;36mHTTPResponse.stream\u001b[0;34m(self, amt, decode_content)\u001b[0m\n\u001b[1;32m    <a href='file:///~/Documents/ML/projectXKCD/xkcd-env/lib/python3.9/site-packages/urllib3/response.py?line=558'>559</a>\u001b[0m \u001b[39m\"\"\"\u001b[39;00m\n\u001b[1;32m    <a href='file:///~/Documents/ML/projectXKCD/xkcd-env/lib/python3.9/site-packages/urllib3/response.py?line=559'>560</a>\u001b[0m \u001b[39mA generator wrapper for the read() method. A call will block until\u001b[39;00m\n\u001b[1;32m    <a href='file:///~/Documents/ML/projectXKCD/xkcd-env/lib/python3.9/site-packages/urllib3/response.py?line=560'>561</a>\u001b[0m \u001b[39m``amt`` bytes have been read from the connection or until the\u001b[39;00m\n\u001b[0;32m   (...)\u001b[0m\n\u001b[1;32m    <a href='file:///~/Documents/ML/projectXKCD/xkcd-env/lib/python3.9/site-packages/urllib3/response.py?line=571'>572</a>\u001b[0m \u001b[39m    'content-encoding' header.\u001b[39;00m\n\u001b[1;32m    <a href='file:///~/Documents/ML/projectXKCD/xkcd-env/lib/python3.9/site-packages/urllib3/response.py?line=572'>573</a>\u001b[0m \u001b[39m\"\"\"\u001b[39;00m\n\u001b[1;32m    <a href='file:///~/Documents/ML/projectXKCD/xkcd-env/lib/python3.9/site-packages/urllib3/response.py?line=573'>574</a>\u001b[0m \u001b[39mif\u001b[39;00m \u001b[39mself\u001b[39m\u001b[39m.\u001b[39mchunked \u001b[39mand\u001b[39;00m \u001b[39mself\u001b[39m\u001b[39m.\u001b[39msupports_chunked_reads():\n\u001b[0;32m--> <a href='file:///~/Documents/ML/projectXKCD/xkcd-env/lib/python3.9/site-packages/urllib3/response.py?line=574'>575</a>\u001b[0m     \u001b[39mfor\u001b[39;00m line \u001b[39min\u001b[39;00m \u001b[39mself\u001b[39m\u001b[39m.\u001b[39mread_chunked(amt, decode_content\u001b[39m=\u001b[39mdecode_content):\n\u001b[1;32m    <a href='file:///~/Documents/ML/projectXKCD/xkcd-env/lib/python3.9/site-packages/urllib3/response.py?line=575'>576</a>\u001b[0m         \u001b[39myield\u001b[39;00m line\n\u001b[1;32m    <a href='file:///~/Documents/ML/projectXKCD/xkcd-env/lib/python3.9/site-packages/urllib3/response.py?line=576'>577</a>\u001b[0m \u001b[39melse\u001b[39;00m:\n",
      "File \u001b[0;32m~/Documents/ML/projectXKCD/xkcd-env/lib/python3.9/site-packages/urllib3/response.py:767\u001b[0m, in \u001b[0;36mHTTPResponse.read_chunked\u001b[0;34m(self, amt, decode_content)\u001b[0m\n\u001b[1;32m    <a href='file:///~/Documents/ML/projectXKCD/xkcd-env/lib/python3.9/site-packages/urllib3/response.py?line=763'>764</a>\u001b[0m     \u001b[39mreturn\u001b[39;00m\n\u001b[1;32m    <a href='file:///~/Documents/ML/projectXKCD/xkcd-env/lib/python3.9/site-packages/urllib3/response.py?line=765'>766</a>\u001b[0m \u001b[39mwhile\u001b[39;00m \u001b[39mTrue\u001b[39;00m:\n\u001b[0;32m--> <a href='file:///~/Documents/ML/projectXKCD/xkcd-env/lib/python3.9/site-packages/urllib3/response.py?line=766'>767</a>\u001b[0m     \u001b[39mself\u001b[39;49m\u001b[39m.\u001b[39;49m_update_chunk_length()\n\u001b[1;32m    <a href='file:///~/Documents/ML/projectXKCD/xkcd-env/lib/python3.9/site-packages/urllib3/response.py?line=767'>768</a>\u001b[0m     \u001b[39mif\u001b[39;00m \u001b[39mself\u001b[39m\u001b[39m.\u001b[39mchunk_left \u001b[39m==\u001b[39m \u001b[39m0\u001b[39m:\n\u001b[1;32m    <a href='file:///~/Documents/ML/projectXKCD/xkcd-env/lib/python3.9/site-packages/urllib3/response.py?line=768'>769</a>\u001b[0m         \u001b[39mbreak\u001b[39;00m\n",
      "File \u001b[0;32m~/Documents/ML/projectXKCD/xkcd-env/lib/python3.9/site-packages/urllib3/response.py:697\u001b[0m, in \u001b[0;36mHTTPResponse._update_chunk_length\u001b[0;34m(self)\u001b[0m\n\u001b[1;32m    <a href='file:///~/Documents/ML/projectXKCD/xkcd-env/lib/python3.9/site-packages/urllib3/response.py?line=694'>695</a>\u001b[0m \u001b[39mif\u001b[39;00m \u001b[39mself\u001b[39m\u001b[39m.\u001b[39mchunk_left \u001b[39mis\u001b[39;00m \u001b[39mnot\u001b[39;00m \u001b[39mNone\u001b[39;00m:\n\u001b[1;32m    <a href='file:///~/Documents/ML/projectXKCD/xkcd-env/lib/python3.9/site-packages/urllib3/response.py?line=695'>696</a>\u001b[0m     \u001b[39mreturn\u001b[39;00m\n\u001b[0;32m--> <a href='file:///~/Documents/ML/projectXKCD/xkcd-env/lib/python3.9/site-packages/urllib3/response.py?line=696'>697</a>\u001b[0m line \u001b[39m=\u001b[39m \u001b[39mself\u001b[39;49m\u001b[39m.\u001b[39;49m_fp\u001b[39m.\u001b[39;49mfp\u001b[39m.\u001b[39;49mreadline()\n\u001b[1;32m    <a href='file:///~/Documents/ML/projectXKCD/xkcd-env/lib/python3.9/site-packages/urllib3/response.py?line=697'>698</a>\u001b[0m line \u001b[39m=\u001b[39m line\u001b[39m.\u001b[39msplit(\u001b[39mb\u001b[39m\u001b[39m\"\u001b[39m\u001b[39m;\u001b[39m\u001b[39m\"\u001b[39m, \u001b[39m1\u001b[39m)[\u001b[39m0\u001b[39m]\n\u001b[1;32m    <a href='file:///~/Documents/ML/projectXKCD/xkcd-env/lib/python3.9/site-packages/urllib3/response.py?line=698'>699</a>\u001b[0m \u001b[39mtry\u001b[39;00m:\n",
      "File \u001b[0;32m/usr/lib/python3.9/socket.py:704\u001b[0m, in \u001b[0;36mSocketIO.readinto\u001b[0;34m(self, b)\u001b[0m\n\u001b[1;32m    <a href='file:///usr/lib/python3.9/socket.py?line=701'>702</a>\u001b[0m \u001b[39mwhile\u001b[39;00m \u001b[39mTrue\u001b[39;00m:\n\u001b[1;32m    <a href='file:///usr/lib/python3.9/socket.py?line=702'>703</a>\u001b[0m     \u001b[39mtry\u001b[39;00m:\n\u001b[0;32m--> <a href='file:///usr/lib/python3.9/socket.py?line=703'>704</a>\u001b[0m         \u001b[39mreturn\u001b[39;00m \u001b[39mself\u001b[39;49m\u001b[39m.\u001b[39;49m_sock\u001b[39m.\u001b[39;49mrecv_into(b)\n\u001b[1;32m    <a href='file:///usr/lib/python3.9/socket.py?line=704'>705</a>\u001b[0m     \u001b[39mexcept\u001b[39;00m timeout:\n\u001b[1;32m    <a href='file:///usr/lib/python3.9/socket.py?line=705'>706</a>\u001b[0m         \u001b[39mself\u001b[39m\u001b[39m.\u001b[39m_timeout_occurred \u001b[39m=\u001b[39m \u001b[39mTrue\u001b[39;00m\n",
      "File \u001b[0;32m/usr/lib/python3.9/ssl.py:1242\u001b[0m, in \u001b[0;36mSSLSocket.recv_into\u001b[0;34m(self, buffer, nbytes, flags)\u001b[0m\n\u001b[1;32m   <a href='file:///usr/lib/python3.9/ssl.py?line=1237'>1238</a>\u001b[0m     \u001b[39mif\u001b[39;00m flags \u001b[39m!=\u001b[39m \u001b[39m0\u001b[39m:\n\u001b[1;32m   <a href='file:///usr/lib/python3.9/ssl.py?line=1238'>1239</a>\u001b[0m         \u001b[39mraise\u001b[39;00m \u001b[39mValueError\u001b[39;00m(\n\u001b[1;32m   <a href='file:///usr/lib/python3.9/ssl.py?line=1239'>1240</a>\u001b[0m           \u001b[39m\"\u001b[39m\u001b[39mnon-zero flags not allowed in calls to recv_into() on \u001b[39m\u001b[39m%s\u001b[39;00m\u001b[39m\"\u001b[39m \u001b[39m%\u001b[39m\n\u001b[1;32m   <a href='file:///usr/lib/python3.9/ssl.py?line=1240'>1241</a>\u001b[0m           \u001b[39mself\u001b[39m\u001b[39m.\u001b[39m\u001b[39m__class__\u001b[39m)\n\u001b[0;32m-> <a href='file:///usr/lib/python3.9/ssl.py?line=1241'>1242</a>\u001b[0m     \u001b[39mreturn\u001b[39;00m \u001b[39mself\u001b[39;49m\u001b[39m.\u001b[39;49mread(nbytes, buffer)\n\u001b[1;32m   <a href='file:///usr/lib/python3.9/ssl.py?line=1242'>1243</a>\u001b[0m \u001b[39melse\u001b[39;00m:\n\u001b[1;32m   <a href='file:///usr/lib/python3.9/ssl.py?line=1243'>1244</a>\u001b[0m     \u001b[39mreturn\u001b[39;00m \u001b[39msuper\u001b[39m()\u001b[39m.\u001b[39mrecv_into(buffer, nbytes, flags)\n",
      "File \u001b[0;32m/usr/lib/python3.9/ssl.py:1100\u001b[0m, in \u001b[0;36mSSLSocket.read\u001b[0;34m(self, len, buffer)\u001b[0m\n\u001b[1;32m   <a href='file:///usr/lib/python3.9/ssl.py?line=1097'>1098</a>\u001b[0m \u001b[39mtry\u001b[39;00m:\n\u001b[1;32m   <a href='file:///usr/lib/python3.9/ssl.py?line=1098'>1099</a>\u001b[0m     \u001b[39mif\u001b[39;00m buffer \u001b[39mis\u001b[39;00m \u001b[39mnot\u001b[39;00m \u001b[39mNone\u001b[39;00m:\n\u001b[0;32m-> <a href='file:///usr/lib/python3.9/ssl.py?line=1099'>1100</a>\u001b[0m         \u001b[39mreturn\u001b[39;00m \u001b[39mself\u001b[39;49m\u001b[39m.\u001b[39;49m_sslobj\u001b[39m.\u001b[39;49mread(\u001b[39mlen\u001b[39;49m, buffer)\n\u001b[1;32m   <a href='file:///usr/lib/python3.9/ssl.py?line=1100'>1101</a>\u001b[0m     \u001b[39melse\u001b[39;00m:\n\u001b[1;32m   <a href='file:///usr/lib/python3.9/ssl.py?line=1101'>1102</a>\u001b[0m         \u001b[39mreturn\u001b[39;00m \u001b[39mself\u001b[39m\u001b[39m.\u001b[39m_sslobj\u001b[39m.\u001b[39mread(\u001b[39mlen\u001b[39m)\n",
      "\u001b[0;31mKeyboardInterrupt\u001b[0m: "
     ]
    }
   ],
   "source": [
    "url = base_url+str(1)\n",
    "while True:\n",
    "    url = get_next_page(url)\n",
    "    print(url)"
   ]
  },
  {
   "cell_type": "code",
   "execution_count": null,
   "metadata": {},
   "outputs": [],
   "source": []
  }
 ],
 "metadata": {
  "interpreter": {
   "hash": "841fceecb5c2abb68dcd44cc89689da2ff941b2aaa861359556dd6b5900827c1"
  },
  "kernelspec": {
   "display_name": "Python 3.9.13 ('xkcd-env': venv)",
   "language": "python",
   "name": "python3"
  },
  "language_info": {
   "codemirror_mode": {
    "name": "ipython",
    "version": 3
   },
   "file_extension": ".py",
   "mimetype": "text/x-python",
   "name": "python",
   "nbconvert_exporter": "python",
   "pygments_lexer": "ipython3",
   "version": "3.9.13"
  },
  "orig_nbformat": 4
 },
 "nbformat": 4,
 "nbformat_minor": 2
}
